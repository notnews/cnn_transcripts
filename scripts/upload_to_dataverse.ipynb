{
 "cells": [
  {
   "cell_type": "code",
   "execution_count": 5,
   "id": "f6ec8455-ee85-4cb2-a35d-38aae4278930",
   "metadata": {},
   "outputs": [],
   "source": [
    "import pandas as pd\n",
    "import gzip\n",
    "import shutil\n",
    "import requests\n",
    "import os\n",
    "\n",
    "# CSV file path\n",
    "csv_file = \"../data/cnn-8.csv\""
   ]
  },
  {
   "cell_type": "code",
   "execution_count": 6,
   "id": "abaea096-5b4e-402c-9c6f-8897fba407fc",
   "metadata": {},
   "outputs": [
    {
     "name": "stdout",
     "output_type": "stream",
     "text": [
      "CSV file contains 43562 rows.\n"
     ]
    }
   ],
   "source": [
    "# Read the CSV and get row count\n",
    "df = pd.read_csv(csv_file)\n",
    "row_count = df.shape[0]\n",
    "print(f\"CSV file contains {row_count} rows.\")"
   ]
  },
  {
   "cell_type": "code",
   "execution_count": 7,
   "id": "4195e384-55f1-4029-93e1-bca120ed7647",
   "metadata": {},
   "outputs": [
    {
     "name": "stdout",
     "output_type": "stream",
     "text": [
      "Compressed ../data/cnn-8.csv to ../data/cnn-8.csv.gz\n"
     ]
    }
   ],
   "source": [
    "# Compress to gzip\n",
    "compressed_file = f\"{csv_file}.gz\"\n",
    "with open(csv_file, 'rb') as f_in:\n",
    "    with gzip.open(compressed_file, 'wb') as f_out:\n",
    "        shutil.copyfileobj(f_in, f_out)\n",
    "print(f\"Compressed {csv_file} to {compressed_file}\")"
   ]
  },
  {
   "cell_type": "code",
   "execution_count": 8,
   "id": "a3b539fd",
   "metadata": {},
   "outputs": [
    {
     "name": "stdout",
     "output_type": "stream",
     "text": [
      "Upload successful!\n"
     ]
    }
   ],
   "source": [
    "# Upload to Dataverse\n",
    "api_key = \"\"\n",
    "dataset_pid = \"doi:10.7910/DVN/ISDPJU\"\n",
    "description = f\"CNN-8 ({row_count} rows)\"\n",
    "\n",
    "url = f\"https://dataverse.harvard.edu/api/datasets/:persistentId/add?persistentId={dataset_pid}\"\n",
    "files = {'file': (os.path.basename(compressed_file), open(compressed_file, 'rb'))}\n",
    "headers = {\"X-Dataverse-key\": api_key}\n",
    "\n",
    "response = requests.post(url, headers=headers, files=files, data={'description': description})\n",
    "if response.status_code == 200:\n",
    "    print(\"Upload successful!\")\n",
    "else:\n",
    "    print(f\"Error: {response.status_code}\")\n",
    "    print(response.text)"
   ]
  },
  {
   "cell_type": "code",
   "execution_count": null,
   "id": "badaced7-cbaa-46c9-b093-b944349b7278",
   "metadata": {},
   "outputs": [],
   "source": []
  }
 ],
 "metadata": {
  "kernelspec": {
   "display_name": "Python 3.11 (Data Science)",
   "language": "python",
   "name": "py311ds"
  },
  "language_info": {
   "codemirror_mode": {
    "name": "ipython",
    "version": 3
   },
   "file_extension": ".py",
   "mimetype": "text/x-python",
   "name": "python",
   "nbconvert_exporter": "python",
   "pygments_lexer": "ipython3",
   "version": "3.11.11"
  }
 },
 "nbformat": 4,
 "nbformat_minor": 5
}
