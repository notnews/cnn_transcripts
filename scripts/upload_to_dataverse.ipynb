{
 "cells": [
  {
   "cell_type": "code",
   "execution_count": 5,
   "id": "c08a803f",
   "metadata": {},
   "outputs": [],
   "source": [
    "# Dataverse API Token\n",
    "# https://dataverse.harvard.edu/dataverseuser.xhtml?selectTab=apiTokenTab\n",
    "host = 'https://dataverse.harvard.edu'\n",
    "token = '<API TOKEN>'\n",
    "doi = 'doi:10.7910/DVN/ISDPJU'"
   ]
  },
  {
   "cell_type": "code",
   "execution_count": 6,
   "id": "9c40e76f",
   "metadata": {},
   "outputs": [],
   "source": [
    "from pyDataverse.api import Api"
   ]
  },
  {
   "cell_type": "code",
   "execution_count": 7,
   "id": "2a78ec77",
   "metadata": {},
   "outputs": [
    {
     "data": {
      "text/plain": [
       "'OK'"
      ]
     },
     "execution_count": 7,
     "metadata": {},
     "output_type": "execute_result"
    }
   ],
   "source": [
    "api = Api('https://dataverse.harvard.edu/', token)\n",
    "api.status"
   ]
  },
  {
   "cell_type": "code",
   "execution_count": 8,
   "id": "fe4bdbdf",
   "metadata": {},
   "outputs": [
    {
     "data": {
      "text/plain": [
       "{'status': 'OK',\n",
       " 'data': {'id': 3052189,\n",
       "  'identifier': 'DVN/ISDPJU',\n",
       "  'persistentUrl': 'https://doi.org/10.7910/DVN/ISDPJU',\n",
       "  'protocol': 'doi',\n",
       "  'authority': '10.7910',\n",
       "  'publisher': 'Harvard Dataverse',\n",
       "  'publicationDate': '2017-09-15',\n",
       "  'storageIdentifier': 'file',\n",
       "  'metadataLanguage': 'undefined',\n",
       "  'latestVersion': {'id': 305010,\n",
       "   'datasetId': 3052189,\n",
       "   'datasetPersistentId': 'doi:10.7910/DVN/ISDPJU',\n",
       "   'storageIdentifier': 'file',\n",
       "   'versionState': 'DRAFT',\n",
       "   'lastUpdateTime': '2022-02-07T08:03:29Z',\n",
       "   'createTime': '2022-02-07T08:03:29Z',\n",
       "   'license': 'CC0',\n",
       "   'termsOfUse': 'CC0 Waiver',\n",
       "   'termsOfAccess': 'For copyright reasons, access is restricted for research purposes only. ',\n",
       "   'fileAccessRequest': True,\n",
       "   'metadataBlocks': {'citation': {'displayName': 'Citation Metadata',\n",
       "     'name': 'citation',\n",
       "     'fields': [{'typeName': 'title',\n",
       "       'multiple': False,\n",
       "       'typeClass': 'primitive',\n",
       "       'value': 'CNN Transcripts 2000--2021'},\n",
       "      {'typeName': 'author',\n",
       "       'multiple': True,\n",
       "       'typeClass': 'compound',\n",
       "       'value': [{'authorName': {'typeName': 'authorName',\n",
       "          'multiple': False,\n",
       "          'typeClass': 'primitive',\n",
       "          'value': 'Sood, Gaurav'}}]},\n",
       "      {'typeName': 'datasetContact',\n",
       "       'multiple': True,\n",
       "       'typeClass': 'compound',\n",
       "       'value': [{'datasetContactName': {'typeName': 'datasetContactName',\n",
       "          'multiple': False,\n",
       "          'typeClass': 'primitive',\n",
       "          'value': 'Sood, Gaurav'},\n",
       "         'datasetContactEmail': {'typeName': 'datasetContactEmail',\n",
       "          'multiple': False,\n",
       "          'typeClass': 'primitive',\n",
       "          'value': 'gsood07@gmail.com'}}]},\n",
       "      {'typeName': 'dsDescription',\n",
       "       'multiple': True,\n",
       "       'typeClass': 'compound',\n",
       "       'value': [{'dsDescriptionValue': {'typeName': 'dsDescriptionValue',\n",
       "          'multiple': False,\n",
       "          'typeClass': 'primitive',\n",
       "          'value': 'See: https://github.com/soodoku/cnn_transcripts\\n\\nFor copyright reasons, access is restricted for research purposes only. The data are split into 6 files:\\n<ol>\\n<li> `cnn-1.csv`. Data from 2000/01/01--2000/04/20. No. of transcripts = 7017\\n<li> `cnn-2.csv`. Data from  2000/04/21--2001/04/03. No. of transcripts = 21381\\n<li> `cnn-3.csv`. Data from  2001/04/04--2002/08/06. No. of transcripts = 35269\\n<li> `cnn-4.csv`. Data from  2002/08/07--2002/09/16. No. of transcripts = 2343\\n<li> `cnn-5.csv`. Data from  2002/09/17--2012/05/18. No. of transcripts = 101336\\n<li> `cnn-6.csv`. Data from  2012/05/19--2014/06/17. No. of transcripts = 23536\\n</ol>\\n\\nTotal number of transcripts: 190,882'}}]},\n",
       "      {'typeName': 'subject',\n",
       "       'multiple': True,\n",
       "       'typeClass': 'controlledVocabulary',\n",
       "       'value': ['Social Sciences']},\n",
       "      {'typeName': 'depositor',\n",
       "       'multiple': False,\n",
       "       'typeClass': 'primitive',\n",
       "       'value': 'Sood, Gaurav'},\n",
       "      {'typeName': 'dateOfDeposit',\n",
       "       'multiple': False,\n",
       "       'typeClass': 'primitive',\n",
       "       'value': '2017-09-15'}]}},\n",
       "   'files': [{'label': 'cnn-1.7z',\n",
       "     'restricted': True,\n",
       "     'version': 1,\n",
       "     'datasetVersionId': 305010,\n",
       "     'dataFile': {'id': 3052191,\n",
       "      'persistentId': 'doi:10.7910/DVN/ISDPJU/9ZNA67',\n",
       "      'pidURL': 'https://doi.org/10.7910/DVN/ISDPJU/9ZNA67',\n",
       "      'filename': 'cnn-1.7z',\n",
       "      'contentType': 'application/x-7z-compressed',\n",
       "      'filesize': 12195738,\n",
       "      'storageIdentifier': 's3://dvn-cloud:15e876fc973-248f551dc1a4',\n",
       "      'rootDataFileId': -1,\n",
       "      'md5': '5e2b7eab11d135f6e34fe43268679675',\n",
       "      'checksum': {'type': 'MD5', 'value': '5e2b7eab11d135f6e34fe43268679675'},\n",
       "      'creationDate': '2017-09-15'}},\n",
       "    {'label': 'cnn-2.7z',\n",
       "     'restricted': True,\n",
       "     'version': 1,\n",
       "     'datasetVersionId': 305010,\n",
       "     'dataFile': {'id': 3052192,\n",
       "      'persistentId': 'doi:10.7910/DVN/ISDPJU/O6SY5W',\n",
       "      'pidURL': 'https://doi.org/10.7910/DVN/ISDPJU/O6SY5W',\n",
       "      'filename': 'cnn-2.7z',\n",
       "      'contentType': 'application/x-7z-compressed',\n",
       "      'filesize': 42240628,\n",
       "      'storageIdentifier': 's3://dvn-cloud:15e876fd5e0-947d20704388',\n",
       "      'rootDataFileId': -1,\n",
       "      'md5': 'de5ef77300fe153328ec13b846b60bd9',\n",
       "      'checksum': {'type': 'MD5', 'value': 'de5ef77300fe153328ec13b846b60bd9'},\n",
       "      'creationDate': '2017-09-15'}},\n",
       "    {'label': 'cnn-3.7z',\n",
       "     'restricted': True,\n",
       "     'version': 1,\n",
       "     'datasetVersionId': 305010,\n",
       "     'dataFile': {'id': 3052190,\n",
       "      'persistentId': 'doi:10.7910/DVN/ISDPJU/YZUIOW',\n",
       "      'pidURL': 'https://doi.org/10.7910/DVN/ISDPJU/YZUIOW',\n",
       "      'filename': 'cnn-3.7z',\n",
       "      'contentType': 'application/x-7z-compressed',\n",
       "      'filesize': 72154050,\n",
       "      'storageIdentifier': 's3://dvn-cloud:15e876fe7e9-a19791e8d621',\n",
       "      'rootDataFileId': -1,\n",
       "      'md5': 'f8742754717366408619454a032a95c6',\n",
       "      'checksum': {'type': 'MD5', 'value': 'f8742754717366408619454a032a95c6'},\n",
       "      'creationDate': '2017-09-15'}},\n",
       "    {'label': 'cnn-4.7z',\n",
       "     'restricted': True,\n",
       "     'version': 1,\n",
       "     'datasetVersionId': 305010,\n",
       "     'dataFile': {'id': 3052193,\n",
       "      'persistentId': 'doi:10.7910/DVN/ISDPJU/VKPPNY',\n",
       "      'pidURL': 'https://doi.org/10.7910/DVN/ISDPJU/VKPPNY',\n",
       "      'filename': 'cnn-4.7z',\n",
       "      'contentType': 'application/x-7z-compressed',\n",
       "      'filesize': 5512427,\n",
       "      'storageIdentifier': 's3://dvn-cloud:15e876fed78-50a4cfaf2064',\n",
       "      'rootDataFileId': -1,\n",
       "      'md5': 'a937d30c907edb02f2346c8633675d62',\n",
       "      'checksum': {'type': 'MD5', 'value': 'a937d30c907edb02f2346c8633675d62'},\n",
       "      'creationDate': '2017-09-15'}},\n",
       "    {'label': 'cnn-5.7z',\n",
       "     'restricted': True,\n",
       "     'version': 1,\n",
       "     'datasetVersionId': 305010,\n",
       "     'dataFile': {'id': 3052195,\n",
       "      'persistentId': 'doi:10.7910/DVN/ISDPJU/IQUDOU',\n",
       "      'pidURL': 'https://doi.org/10.7910/DVN/ISDPJU/IQUDOU',\n",
       "      'filename': 'cnn-5.7z',\n",
       "      'contentType': 'application/x-7z-compressed',\n",
       "      'filesize': 633144562,\n",
       "      'storageIdentifier': 's3://dvn-cloud:15e879a83ab-8363cdd8cd37',\n",
       "      'rootDataFileId': -1,\n",
       "      'md5': '771a093e034a0b7607d14ef05624adab',\n",
       "      'checksum': {'type': 'MD5', 'value': '771a093e034a0b7607d14ef05624adab'},\n",
       "      'creationDate': '2017-09-15'}},\n",
       "    {'label': 'cnn-6.7z',\n",
       "     'restricted': True,\n",
       "     'version': 1,\n",
       "     'datasetVersionId': 305010,\n",
       "     'dataFile': {'id': 3052194,\n",
       "      'persistentId': 'doi:10.7910/DVN/ISDPJU/HVG7XF',\n",
       "      'pidURL': 'https://doi.org/10.7910/DVN/ISDPJU/HVG7XF',\n",
       "      'filename': 'cnn-6.7z',\n",
       "      'contentType': 'application/x-7z-compressed',\n",
       "      'filesize': 158469760,\n",
       "      'storageIdentifier': 's3://dvn-cloud:15e8783a1c2-908c285da41d',\n",
       "      'rootDataFileId': -1,\n",
       "      'md5': '14040153dd7f74f5e1edde2e724a7dd4',\n",
       "      'checksum': {'type': 'MD5', 'value': '14040153dd7f74f5e1edde2e724a7dd4'},\n",
       "      'creationDate': '2017-09-15'}}]}}}"
      ]
     },
     "execution_count": 8,
     "metadata": {},
     "output_type": "execute_result"
    }
   ],
   "source": [
    "resp = api.get_dataset(doi)\n",
    "resp.json()"
   ]
  },
  {
   "cell_type": "code",
   "execution_count": 9,
   "id": "3f275ccb",
   "metadata": {},
   "outputs": [
    {
     "name": "stdout",
     "output_type": "stream",
     "text": [
      "/opt/github/cnn_transcripts/scripts/cnn-7.csv.gz\n",
      "{'status': 'OK', 'data': {'files': [{'description': '', 'label': 'cnn-7.csv.gz', 'restricted': False, 'version': 1, 'datasetVersionId': 305010, 'dataFile': {'id': 5856482, 'persistentId': '', 'pidURL': '', 'filename': 'cnn-7.csv.gz', 'contentType': 'application/gzip', 'filesize': 1070158523, 'description': '', 'storageIdentifier': 's3://dvn-cloud:17ed50dc61e-47e84bec4c5b', 'rootDataFileId': -1, 'md5': 'b40acfded5e974311b28195eff2068e4', 'checksum': {'type': 'MD5', 'value': 'b40acfded5e974311b28195eff2068e4'}, 'creationDate': '2022-02-07'}}]}}\n"
     ]
    }
   ],
   "source": [
    "from glob import glob\n",
    "\n",
    "for fn in glob('/opt/github/cnn_transcripts/scripts/cnn-7.csv.gz'):\n",
    "    print(fn)\n",
    "    resp = api.upload_file(doi, fn)\n",
    "    print(resp)"
   ]
  },
  {
   "cell_type": "code",
   "execution_count": null,
   "id": "a3b539fd",
   "metadata": {},
   "outputs": [],
   "source": []
  }
 ],
 "metadata": {
  "kernelspec": {
   "display_name": "Python 3",
   "language": "python",
   "name": "python3"
  },
  "language_info": {
   "codemirror_mode": {
    "name": "ipython",
    "version": 3
   },
   "file_extension": ".py",
   "mimetype": "text/x-python",
   "name": "python",
   "nbconvert_exporter": "python",
   "pygments_lexer": "ipython3",
   "version": "3.9.5"
  }
 },
 "nbformat": 4,
 "nbformat_minor": 5
}
